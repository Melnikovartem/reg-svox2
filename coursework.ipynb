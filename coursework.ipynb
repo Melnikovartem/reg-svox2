{
 "cells": [
  {
   "cell_type": "markdown",
   "metadata": {
    "id": "dO4oLwmLBezL"
   },
   "source": [
    "# Опять переустонавливать Conda"
   ]
  },
  {
   "cell_type": "code",
   "execution_count": 61,
   "metadata": {
    "colab": {
     "base_uri": "https://localhost:8080/"
    },
    "executionInfo": {
     "elapsed": 21,
     "status": "ok",
     "timestamp": 1644757573749,
     "user": {
      "displayName": "Артем Мельников",
      "photoUrl": "https://lh3.googleusercontent.com/a-/AOh14Gg3u21bfj3xbUWHLdTdT6sP-k0huGdxWfq9GMsmJQ=s64",
      "userId": "12648836304799801100"
     },
     "user_tz": -180
    },
    "id": "bOS0_Y662KrX",
    "outputId": "017c5a3d-b527-4c73-fb25-7cdf600fbdf3"
   },
   "outputs": [
    {
     "name": "stdout",
     "output_type": "stream",
     "text": [
      "Mon May 30 07:59:06 2022       \r\n",
      "+-----------------------------------------------------------------------------+\r\n",
      "| NVIDIA-SMI 510.60.02    Driver Version: 510.60.02    CUDA Version: 11.6     |\r\n",
      "|-------------------------------+----------------------+----------------------+\r\n",
      "| GPU  Name        Persistence-M| Bus-Id        Disp.A | Volatile Uncorr. ECC |\r\n",
      "| Fan  Temp  Perf  Pwr:Usage/Cap|         Memory-Usage | GPU-Util  Compute M. |\r\n",
      "|                               |                      |               MIG M. |\r\n",
      "|===============================+======================+======================|\r\n",
      "|   0  NVIDIA GeForce ...  Off  | 00000000:01:00.0  On |                  N/A |\r\n",
      "|  0%   46C    P8    19W / 175W |   7047MiB /  8192MiB |      5%      Default |\r\n",
      "|                               |                      |                  N/A |\r\n",
      "+-------------------------------+----------------------+----------------------+\r\n",
      "                                                                               \r\n",
      "+-----------------------------------------------------------------------------+\r\n",
      "| Processes:                                                                  |\r\n",
      "|  GPU   GI   CI        PID   Type   Process name                  GPU Memory |\r\n",
      "|        ID   ID                                                   Usage      |\r\n",
      "|=============================================================================|\r\n",
      "|    0   N/A  N/A      1131      G   /usr/lib/xorg/Xorg                 35MiB |\r\n",
      "|    0   N/A  N/A      1596      G   /usr/lib/xorg/Xorg                105MiB |\r\n",
      "|    0   N/A  N/A      1727      G   /usr/bin/gnome-shell               82MiB |\r\n",
      "|    0   N/A  N/A      2281      G   /usr/lib/firefox/firefox          151MiB |\r\n",
      "|    0   N/A  N/A      9370      C   .../envs/plenoxel/bin/python     6659MiB |\r\n",
      "+-----------------------------------------------------------------------------+\r\n"
     ]
    }
   ],
   "source": [
    "!nvidia-smi"
   ]
  },
  {
   "cell_type": "markdown",
   "metadata": {
    "id": "kB21rOnhB32D"
   },
   "source": [
    "# Обучаем модель"
   ]
  },
  {
   "cell_type": "code",
   "execution_count": 1,
   "metadata": {
    "colab": {
     "base_uri": "https://localhost:8080/"
    },
    "executionInfo": {
     "elapsed": 5161,
     "status": "ok",
     "timestamp": 1644758444590,
     "user": {
      "displayName": "Артем Мельников",
      "photoUrl": "https://lh3.googleusercontent.com/a-/AOh14Gg3u21bfj3xbUWHLdTdT6sP-k0huGdxWfq9GMsmJQ=s64",
      "userId": "12648836304799801100"
     },
     "user_tz": -180
    },
    "id": "HhBcMHxUavfj",
    "outputId": "8b70ac0b-621e-45ac-f734-a34c03e50157"
   },
   "outputs": [],
   "source": [
    "import torch\n",
    "import svox2"
   ]
  },
  {
   "cell_type": "code",
   "execution_count": 2,
   "metadata": {
    "colab": {
     "base_uri": "https://localhost:8080/"
    },
    "executionInfo": {
     "elapsed": 65,
     "status": "ok",
     "timestamp": 1644758444593,
     "user": {
      "displayName": "Артем Мельников",
      "photoUrl": "https://lh3.googleusercontent.com/a-/AOh14Gg3u21bfj3xbUWHLdTdT6sP-k0huGdxWfq9GMsmJQ=s64",
      "userId": "12648836304799801100"
     },
     "user_tz": -180
    },
    "id": "-CfgECOmNWux",
    "outputId": "0bfceffd-2226-4e75-a170-72e626826a73"
   },
   "outputs": [
    {
     "name": "stdout",
     "output_type": "stream",
     "text": [
      "/home/artem/Desktop/coursework/svox2/opt\n"
     ]
    }
   ],
   "source": [
    "%cd svox2/opt\n",
    "from util.dataset import datasets\n",
    "from util.util import get_expon_lr_func, generate_dirs_equirect, viridis_cmap"
   ]
  },
  {
   "cell_type": "code",
   "execution_count": 3,
   "metadata": {
    "colab": {
     "base_uri": "https://localhost:8080/"
    },
    "executionInfo": {
     "elapsed": 62,
     "status": "ok",
     "timestamp": 1644758444595,
     "user": {
      "displayName": "Артем Мельников",
      "photoUrl": "https://lh3.googleusercontent.com/a-/AOh14Gg3u21bfj3xbUWHLdTdT6sP-k0huGdxWfq9GMsmJQ=s64",
      "userId": "12648836304799801100"
     },
     "user_tz": -180
    },
    "id": "qnWB9fdqJthS",
    "outputId": "92a32345-8eaf-4906-f39d-687789d1b875"
   },
   "outputs": [
    {
     "name": "stdout",
     "output_type": "stream",
     "text": [
      "/home/artem/Desktop/coursework/svox2\n"
     ]
    }
   ],
   "source": [
    "%cd /home/artem/Desktop/coursework/svox2\n",
    "PATH = \"/home/artem/Desktop/coursework\"\n",
    "device = \"cuda\" if torch.cuda.is_available() else \"cpu\"\n",
    "DATA_PATH = PATH + \"/lego_real_night_radial\""
   ]
  },
  {
   "cell_type": "code",
   "execution_count": 64,
   "metadata": {
    "colab": {
     "base_uri": "https://localhost:8080/"
    },
    "executionInfo": {
     "elapsed": 41815,
     "status": "ok",
     "timestamp": 1644758486351,
     "user": {
      "displayName": "Артем Мельников",
      "photoUrl": "https://lh3.googleusercontent.com/a-/AOh14Gg3u21bfj3xbUWHLdTdT6sP-k0huGdxWfq9GMsmJQ=s64",
      "userId": "12648836304799801100"
     },
     "user_tz": -180
    },
    "id": "AXmZ_Kp2JOvV",
    "outputId": "3216e9d8-4456-4425-d78c-85ae39c7ff81"
   },
   "outputs": [
    {
     "name": "stdout",
     "output_type": "stream",
     "text": [
      "Defaulting to extended NSVF dataset\n",
      "LOAD NSVF DATA /home/artem/Desktop/coursework/lego_real_night_radial split train\n"
     ]
    },
    {
     "name": "stderr",
     "output_type": "stream",
     "text": [
      "100%|███████████████████████████████████████████| 95/95 [00:02<00:00, 33.35it/s]\n"
     ]
    },
    {
     "name": "stdout",
     "output_type": "stream",
     "text": [
      "NORMALIZE BY? camera\n",
      "scene_scale 0.5137696314019394\n",
      " intrinsics (loaded reso) Intrin(fx=745.3564686190166, fy=745.3564686190166, cx=510.0, cy=384.0)\n",
      " Generating rays, scaling factor 1\n"
     ]
    }
   ],
   "source": [
    "factor = 1\n",
    "dset = datasets[\"auto\"](\n",
    "               DATA_PATH,\n",
    "               split=\"train\",\n",
    "               device=device,\n",
    "               factor=factor,\n",
    "               n_images = 80)"
   ]
  },
  {
   "cell_type": "code",
   "execution_count": 66,
   "metadata": {
    "colab": {
     "base_uri": "https://localhost:8080/"
    },
    "executionInfo": {
     "elapsed": 72448,
     "status": "ok",
     "timestamp": 1644758558744,
     "user": {
      "displayName": "Артем Мельников",
      "photoUrl": "https://lh3.googleusercontent.com/a-/AOh14Gg3u21bfj3xbUWHLdTdT6sP-k0huGdxWfq9GMsmJQ=s64",
      "userId": "12648836304799801100"
     },
     "user_tz": -180
    },
    "id": "y9Ix-ISQi4MM",
    "outputId": "796b568b-5d3e-4174-a02f-b67feb6f1aa4"
   },
   "outputs": [
    {
     "name": "stdout",
     "output_type": "stream",
     "text": [
      "Defaulting to extended NSVF dataset\n",
      "LOAD NSVF DATA /home/artem/Desktop/coursework/lego_real_night_radial split test\n"
     ]
    },
    {
     "name": "stderr",
     "output_type": "stream",
     "text": [
      "100%|█████████████████████████████████████████████| 7/7 [00:00<00:00, 34.09it/s]"
     ]
    },
    {
     "name": "stdout",
     "output_type": "stream",
     "text": [
      "NORMALIZE BY? camera\n",
      "scene_scale 0.5137696314019394\n",
      " intrinsics (loaded reso) Intrin(fx=745.3564686190166, fy=745.3564686190166, cx=510.0, cy=384.0)\n"
     ]
    },
    {
     "name": "stderr",
     "output_type": "stream",
     "text": [
      "\n"
     ]
    }
   ],
   "source": [
    "dset_test = datasets[\"auto\"](DATA_PATH, split=\"test\")"
   ]
  },
  {
   "cell_type": "code",
   "execution_count": 67,
   "metadata": {
    "executionInfo": {
     "elapsed": 113,
     "status": "ok",
     "timestamp": 1644758558747,
     "user": {
      "displayName": "Артем Мельников",
      "photoUrl": "https://lh3.googleusercontent.com/a-/AOh14Gg3u21bfj3xbUWHLdTdT6sP-k0huGdxWfq9GMsmJQ=s64",
      "userId": "12648836304799801100"
     },
     "user_tz": -180
    },
    "id": "w_rueg_Y59TT"
   },
   "outputs": [],
   "source": [
    "reso_list = [[256, 256, 256], [512, 512, 512]]\n",
    "reso_id = 0"
   ]
  },
  {
   "cell_type": "code",
   "execution_count": 68,
   "metadata": {
    "colab": {
     "base_uri": "https://localhost:8080/",
     "height": 346
    },
    "executionInfo": {
     "elapsed": 9502,
     "status": "error",
     "timestamp": 1644758568138,
     "user": {
      "displayName": "Артем Мельников",
      "photoUrl": "https://lh3.googleusercontent.com/a-/AOh14Gg3u21bfj3xbUWHLdTdT6sP-k0huGdxWfq9GMsmJQ=s64",
      "userId": "12648836304799801100"
     },
     "user_tz": -180
    },
    "id": "cw-_pnyOEjoV",
    "outputId": "4ccb971c-4592-48ca-d766-9aefb8f13b9a"
   },
   "outputs": [],
   "source": [
    "grid = svox2.SparseGrid(reso=reso_list[reso_id],\n",
    "                        center=dset.scene_center,\n",
    "                        radius=dset.scene_radius,\n",
    "                        use_sphere_bound=dset.use_sphere_bound, \n",
    "                        basis_dim=9,\n",
    "                        use_z_order=True,\n",
    "                        device=device,\n",
    "                        basis_reso=32,\n",
    "                        basis_type=svox2.__dict__['BASIS_TYPE_' + \"SH\"], #['sh', '3d_texture', 'mlp']\n",
    "                        mlp_posenc_size=4,\n",
    "                        mlp_width=32,\n",
    "                        background_nlayers=0,\n",
    "                        background_reso=512)"
   ]
  },
  {
   "cell_type": "code",
   "execution_count": 69,
   "metadata": {
    "executionInfo": {
     "elapsed": 264,
     "status": "aborted",
     "timestamp": 1644758568099,
     "user": {
      "displayName": "Артем Мельников",
      "photoUrl": "https://lh3.googleusercontent.com/a-/AOh14Gg3u21bfj3xbUWHLdTdT6sP-k0huGdxWfq9GMsmJQ=s64",
      "userId": "12648836304799801100"
     },
     "user_tz": -180
    },
    "id": "ZaBy--ZGM1wz"
   },
   "outputs": [],
   "source": [
    "grid.sh_data.data[:] = 0.0\n",
    "grid.density_data.data[:] = 0.0"
   ]
  },
  {
   "cell_type": "code",
   "execution_count": 70,
   "metadata": {
    "executionInfo": {
     "elapsed": 269,
     "status": "aborted",
     "timestamp": 1644758568104,
     "user": {
      "displayName": "Артем Мельников",
      "photoUrl": "https://lh3.googleusercontent.com/a-/AOh14Gg3u21bfj3xbUWHLdTdT6sP-k0huGdxWfq9GMsmJQ=s64",
      "userId": "12648836304799801100"
     },
     "user_tz": -180
    },
    "id": "iEDE9pD_Epa-"
   },
   "outputs": [
    {
     "data": {
      "text/plain": [
       "False"
      ]
     },
     "execution_count": 70,
     "metadata": {},
     "output_type": "execute_result"
    }
   ],
   "source": [
    "grid.basis_type == svox2.BASIS_TYPE_3D_TEXTURE"
   ]
  },
  {
   "cell_type": "code",
   "execution_count": 71,
   "metadata": {
    "executionInfo": {
     "elapsed": 274,
     "status": "aborted",
     "timestamp": 1644758568109,
     "user": {
      "displayName": "Артем Мельников",
      "photoUrl": "https://lh3.googleusercontent.com/a-/AOh14Gg3u21bfj3xbUWHLdTdT6sP-k0huGdxWfq9GMsmJQ=s64",
      "userId": "12648836304799801100"
     },
     "user_tz": -180
    },
    "id": "tVc57M06iIJV"
   },
   "outputs": [
    {
     "name": "stdout",
     "output_type": "stream",
     "text": [
      "Render options RenderOptions(backend='cuvol', background_brightness=1.0, step_size=0.5, sigma_thresh=1e-10, stop_thresh=1e-07, last_sample_opaque=False, near_clip=0.0, use_spheric_clip=False, random_sigma_std=1.0, random_sigma_std_background=1.0)\n"
     ]
    }
   ],
   "source": [
    "grid.requires_grad_(True)\n",
    "print('Render options', grid.opt)\n",
    "\n",
    "gstep_id_base = 0\n",
    "resample_cameras = [\n",
    "        svox2.Camera(c2w.to(device=device),\n",
    "                     dset.intrins.get('fx', i),\n",
    "                     dset.intrins.get('fy', i),\n",
    "                     dset.intrins.get('cx', i),\n",
    "                     dset.intrins.get('cy', i),\n",
    "                     width=dset.get_image_size(i)[1],\n",
    "                     height=dset.get_image_size(i)[0],\n",
    "                     ndc_coeffs=dset.ndc_coeffs) for i, c2w in enumerate(dset.c2w)\n",
    "    ]"
   ]
  },
  {
   "cell_type": "code",
   "execution_count": 72,
   "metadata": {
    "executionInfo": {
     "elapsed": 277,
     "status": "aborted",
     "timestamp": 1644758568112,
     "user": {
      "displayName": "Артем Мельников",
      "photoUrl": "https://lh3.googleusercontent.com/a-/AOh14Gg3u21bfj3xbUWHLdTdT6sP-k0huGdxWfq9GMsmJQ=s64",
      "userId": "12648836304799801100"
     },
     "user_tz": -180
    },
    "id": "4dTf-2sEiSxn"
   },
   "outputs": [],
   "source": [
    "from tqdm.notebook import tqdm\n",
    "from torch.utils.tensorboard import SummaryWriter"
   ]
  },
  {
   "cell_type": "code",
   "execution_count": 73,
   "metadata": {
    "executionInfo": {
     "elapsed": 280,
     "status": "aborted",
     "timestamp": 1644758568115,
     "user": {
      "displayName": "Артем Мельников",
      "photoUrl": "https://lh3.googleusercontent.com/a-/AOh14Gg3u21bfj3xbUWHLdTdT6sP-k0huGdxWfq9GMsmJQ=s64",
      "userId": "12648836304799801100"
     },
     "user_tz": -180
    },
    "id": "j1-McN5TjL76"
   },
   "outputs": [],
   "source": [
    "summary_writer = SummaryWriter(PATH + \"/ckpt/\")"
   ]
  },
  {
   "cell_type": "code",
   "execution_count": 74,
   "metadata": {
    "executionInfo": {
     "elapsed": 284,
     "status": "aborted",
     "timestamp": 1644758568119,
     "user": {
      "displayName": "Артем Мельников",
      "photoUrl": "https://lh3.googleusercontent.com/a-/AOh14Gg3u21bfj3xbUWHLdTdT6sP-k0huGdxWfq9GMsmJQ=s64",
      "userId": "12648836304799801100"
     },
     "user_tz": -180
    },
    "id": "0az9mi2pkzGB"
   },
   "outputs": [],
   "source": [
    "import cv2\n",
    "import math\n",
    "import gc\n",
    "import torch.nn.functional as F\n",
    "import os\n",
    "from os import path"
   ]
  },
  {
   "cell_type": "code",
   "execution_count": 75,
   "metadata": {
    "executionInfo": {
     "elapsed": 287,
     "status": "aborted",
     "timestamp": 1644758568122,
     "user": {
      "displayName": "Артем Мельников",
      "photoUrl": "https://lh3.googleusercontent.com/a-/AOh14Gg3u21bfj3xbUWHLdTdT6sP-k0huGdxWfq9GMsmJQ=s64",
      "userId": "12648836304799801100"
     },
     "user_tz": -180
    },
    "id": "SmPviiMz5bMS"
   },
   "outputs": [],
   "source": [
    "def train_step():\n",
    "        print('Train step', torch.cuda.memory_reserved(0), torch.cuda.memory_allocated(0))\n",
    "        pbar = tqdm(enumerate(range(0, epoch_size, args.batch_size)), total=batches_per_epoch)\n",
    "        stats = {\"mse\" : 0.0, \"psnr\" : 0.0, \"invsqr_mse\" : 0.0}\n",
    "        for iter_id, batch_begin in pbar:\n",
    "            gstep_id = iter_id + gstep_id_base\n",
    "            if args.lr_fg_begin_step > 0 and gstep_id == args.lr_fg_begin_step:\n",
    "                grid.density_data.data[:] = args.init_sigma\n",
    "            lr_sigma = lr_sigma_func(gstep_id) * lr_sigma_factor\n",
    "            lr_sh = lr_sh_func(gstep_id) * lr_sh_factor\n",
    "            lr_basis = lr_basis_func(gstep_id - args.lr_basis_begin_step) * lr_basis_factor\n",
    "            lr_sigma_bg = lr_sigma_bg_func(gstep_id - args.lr_basis_begin_step) * lr_basis_factor\n",
    "            lr_color_bg = lr_color_bg_func(gstep_id - args.lr_basis_begin_step) * lr_basis_factor\n",
    "            if not args.lr_decay:\n",
    "                lr_sigma = args.lr_sigma * lr_sigma_factor\n",
    "                lr_sh = args.lr_sh * lr_sh_factor\n",
    "                lr_basis = args.lr_basis * lr_basis_factor\n",
    "\n",
    "            batch_end = min(batch_begin + args.batch_size, epoch_size)\n",
    "            batch_origins = dset.rays.origins[batch_begin: batch_end]\n",
    "            batch_dirs = dset.rays.dirs[batch_begin: batch_end]\n",
    "            rgb_gt = dset.rays.gt[batch_begin: batch_end]\n",
    "            rays = svox2.Rays(batch_origins, batch_dirs)\n",
    "\n",
    "            #  with Timing(\"volrend_fused\"):\n",
    "            rgb_pred = grid.volume_render_fused(rays, rgb_gt,\n",
    "                    beta_loss=args.lambda_beta,\n",
    "                    sparsity_loss=args.lambda_sparsity,\n",
    "                    randomize=args.enable_random)\n",
    "            \n",
    "\n",
    "            #  with Timing(\"loss_comp\"):\n",
    "            mse = F.mse_loss(rgb_gt, rgb_pred)\n",
    "\n",
    "            # Stats\n",
    "            mse_num : float = mse.detach().item()\n",
    "            psnr = -10.0 * math.log10(mse_num)\n",
    "            stats['mse'] += mse_num\n",
    "            stats['psnr'] += psnr\n",
    "            stats['invsqr_mse'] += 1.0 / mse_num ** 2\n",
    "\n",
    "            if (iter_id + 1) % args.print_every == 0:\n",
    "                # Print averaged stats\n",
    "                pbar.set_description(f'epoch {epoch_id} psnr={psnr:.2f}')\n",
    "                for stat_name in stats:\n",
    "                    stat_val = stats[stat_name] / args.print_every\n",
    "                    summary_writer.add_scalar(stat_name, stat_val, global_step=gstep_id)\n",
    "                    stats[stat_name] = 0.0\n",
    "                #  if args.lambda_tv > 0.0:\n",
    "                #      with torch.no_grad():\n",
    "                #          tv = grid.tv(logalpha=args.tv_logalpha, ndc_coeffs=dset.ndc_coeffs)\n",
    "                #      summary_writer.add_scalar(\"loss_tv\", tv, global_step=gstep_id)\n",
    "                #  if args.lambda_tv_sh > 0.0:\n",
    "                #      with torch.no_grad():\n",
    "                #          tv_sh = grid.tv_color()\n",
    "                #      summary_writer.add_scalar(\"loss_tv_sh\", tv_sh, global_step=gstep_id)\n",
    "                #  with torch.no_grad():\n",
    "                #      tv_basis = grid.tv_basis() #  summary_writer.add_scalar(\"loss_tv_basis\", tv_basis, global_step=gstep_id)\n",
    "                summary_writer.add_scalar(\"lr_sh\", lr_sh, global_step=gstep_id)\n",
    "                summary_writer.add_scalar(\"lr_sigma\", lr_sigma, global_step=gstep_id)\n",
    "                if grid.basis_type == svox2.BASIS_TYPE_3D_TEXTURE:\n",
    "                    summary_writer.add_scalar(\"lr_basis\", lr_basis, global_step=gstep_id)\n",
    "                if grid.use_background:\n",
    "                    summary_writer.add_scalar(\"lr_sigma_bg\", lr_sigma_bg, global_step=gstep_id)\n",
    "                    summary_writer.add_scalar(\"lr_color_bg\", lr_color_bg, global_step=gstep_id)\n",
    "\n",
    "                if args.weight_decay_sh < 1.0:\n",
    "                    grid.sh_data.data *= args.weight_decay_sigma\n",
    "                if args.weight_decay_sigma < 1.0:\n",
    "                    grid.density_data.data *= args.weight_decay_sh\n",
    "\n",
    "            #  # For outputting the % sparsity of the gradient\n",
    "            #  indexer = grid.sparse_sh_grad_indexer\n",
    "            #  if indexer is not None:\n",
    "            #      if indexer.dtype == torch.bool:\n",
    "            #          nz = torch.count_nonzero(indexer)\n",
    "            #      else:\n",
    "            #          nz = indexer.size()\n",
    "            #      with open(os.path.join(args.train_dir, 'grad_sparsity.txt'), 'a') as sparsity_file:\n",
    "            #          sparsity_file.write(f\"{gstep_id} {nz}\\n\")\n",
    "\n",
    "            # Apply TV/Sparsity regularizers\n",
    "            if args.lambda_tv > 0.0:\n",
    "                #  with Timing(\"tv_inpl\"):\n",
    "                grid.inplace_tv_grad(grid.density_data.grad,\n",
    "                        scaling=args.lambda_tv,\n",
    "                        sparse_frac=args.tv_sparsity,\n",
    "                        logalpha=args.tv_logalpha,\n",
    "                        ndc_coeffs=dset.ndc_coeffs,\n",
    "                        contiguous=args.tv_contiguous)\n",
    "            if args.lambda_tv_sh > 0.0:\n",
    "                #  with Timing(\"tv_color_inpl\"):\n",
    "                grid.inplace_tv_color_grad(grid.sh_data.grad,\n",
    "                        scaling=args.lambda_tv_sh,\n",
    "                        sparse_frac=args.tv_sh_sparsity,\n",
    "                        ndc_coeffs=dset.ndc_coeffs,\n",
    "                        contiguous=args.tv_contiguous)\n",
    "            if args.lambda_tv_lumisphere > 0.0:\n",
    "                grid.inplace_tv_lumisphere_grad(grid.sh_data.grad,\n",
    "                        scaling=args.lambda_tv_lumisphere,\n",
    "                        dir_factor=args.tv_lumisphere_dir_factor,\n",
    "                        sparse_frac=args.tv_lumisphere_sparsity,\n",
    "                        ndc_coeffs=dset.ndc_coeffs)\n",
    "            if args.lambda_l2_sh > 0.0:\n",
    "                grid.inplace_l2_color_grad(grid.sh_data.grad,\n",
    "                        scaling=args.lambda_l2_sh)\n",
    "            if grid.use_background and (args.lambda_tv_background_sigma > 0.0 or args.lambda_tv_background_color > 0.0):\n",
    "                grid.inplace_tv_background_grad(grid.background_data.grad,\n",
    "                        scaling=args.lambda_tv_background_color,\n",
    "                        scaling_density=args.lambda_tv_background_sigma,\n",
    "                        sparse_frac=args.tv_background_sparsity,\n",
    "                        contiguous=args.tv_contiguous)\n",
    "            if args.lambda_tv_basis > 0.0:\n",
    "                tv_basis = grid.tv_basis()\n",
    "                loss_tv_basis = tv_basis * args.lambda_tv_basis\n",
    "                loss_tv_basis.backward()\n",
    "            #  print('nz density', torch.count_nonzero(grid.sparse_grad_indexer).item(),\n",
    "            #        ' sh', torch.count_nonzero(grid.sparse_sh_grad_indexer).item())\n",
    "\n",
    "            # Manual SGD/rmsprop step\n",
    "            if gstep_id >= args.lr_fg_begin_step:\n",
    "                grid.optim_density_step(lr_sigma, beta=args.rms_beta, optim=args.sigma_optim)\n",
    "                grid.optim_sh_step(lr_sh, beta=args.rms_beta, optim=args.sh_optim)\n",
    "            if grid.use_background:\n",
    "                grid.optim_background_step(lr_sigma_bg, lr_color_bg, beta=args.rms_beta, optim=args.bg_optim)\n",
    "            if gstep_id >= args.lr_basis_begin_step:\n",
    "                if grid.basis_type == svox2.BASIS_TYPE_3D_TEXTURE:\n",
    "                    grid.optim_basis_step(lr_basis, beta=args.rms_beta, optim=args.basis_optim)\n",
    "                elif grid.basis_type == svox2.BASIS_TYPE_MLP:\n",
    "                    optim_basis_mlp.step()\n",
    "                    optim_basis_mlp.zero_grad()"
   ]
  },
  {
   "cell_type": "code",
   "execution_count": 76,
   "metadata": {
    "executionInfo": {
     "elapsed": 289,
     "status": "aborted",
     "timestamp": 1644758568124,
     "user": {
      "displayName": "Артем Мельников",
      "photoUrl": "https://lh3.googleusercontent.com/a-/AOh14Gg3u21bfj3xbUWHLdTdT6sP-k0huGdxWfq9GMsmJQ=s64",
      "userId": "12648836304799801100"
     },
     "user_tz": -180
    },
    "id": "MewgEidf5iZ6"
   },
   "outputs": [],
   "source": [
    "# Test\n",
    "def eval_step():\n",
    "    # Put in a function to avoid memory leak\n",
    "    print('Eval step')\n",
    "    with torch.no_grad():\n",
    "        stats_test = {'psnr' : 0.0, 'mse' : 0.0}\n",
    "\n",
    "        # Standard set\n",
    "        N_IMGS_TO_EVAL = min(20 if epoch_id > 0 else 5, dset_test.n_images)\n",
    "        N_IMGS_TO_SAVE = N_IMGS_TO_EVAL # if not args.tune_mode else 1\n",
    "        img_eval_interval = dset_test.n_images // N_IMGS_TO_EVAL\n",
    "        img_save_interval = (N_IMGS_TO_EVAL // N_IMGS_TO_SAVE)\n",
    "        img_ids = range(0, dset_test.n_images, img_eval_interval)\n",
    "\n",
    "        # Special 'very hard' specular + fuzz set\n",
    "        #  img_ids = [2, 5, 7, 9, 21,\n",
    "        #             44, 45, 47, 49, 56,\n",
    "        #             80, 88, 99, 115, 120,\n",
    "        #             154]\n",
    "        #  img_save_interval = 1\n",
    "\n",
    "        n_images_gen = 0\n",
    "        for i, img_id in tqdm(enumerate(img_ids), total=len(img_ids)):\n",
    "            c2w = dset_test.c2w[img_id].to(device=device)\n",
    "            cam = svox2.Camera(c2w,\n",
    "                                dset_test.intrins.get('fx', img_id),\n",
    "                                dset_test.intrins.get('fy', img_id),\n",
    "                                dset_test.intrins.get('cx', img_id),\n",
    "                                dset_test.intrins.get('cy', img_id),\n",
    "                                width=dset_test.get_image_size(img_id)[1],\n",
    "                                height=dset_test.get_image_size(img_id)[0],\n",
    "                                ndc_coeffs=dset_test.ndc_coeffs)\n",
    "            rgb_pred_test = grid.volume_render_image(cam, use_kernel=True)\n",
    "            rgb_gt_test = dset_test.gt[img_id].to(device=device)\n",
    "            all_mses = ((rgb_gt_test - rgb_pred_test) ** 2).cpu()\n",
    "            if i % img_save_interval == 0:\n",
    "                img_pred = rgb_pred_test.cpu()\n",
    "                img_pred.clamp_max_(1.0)\n",
    "                summary_writer.add_image(f'test/image_{img_id:04d}',\n",
    "                        img_pred, global_step=gstep_id_base, dataformats='HWC')\n",
    "                if args.log_mse_image:\n",
    "                    mse_img = all_mses / all_mses.max()\n",
    "                    summary_writer.add_image(f'test/mse_map_{img_id:04d}',\n",
    "                            mse_img, global_step=gstep_id_base, dataformats='HWC')\n",
    "                if args.log_depth_map:\n",
    "                    depth_img = grid.volume_render_depth_image(cam,\n",
    "                                args.log_depth_map_use_thresh if\n",
    "                                args.log_depth_map_use_thresh else None\n",
    "                            )\n",
    "                    depth_img = viridis_cmap(depth_img.cpu())\n",
    "                    summary_writer.add_image(f'test/depth_map_{img_id:04d}',\n",
    "                            depth_img,\n",
    "                            global_step=gstep_id_base, dataformats='HWC')\n",
    "\n",
    "            rgb_pred_test = rgb_gt_test = None\n",
    "            mse_num : float = all_mses.mean().item()\n",
    "            psnr = -10.0 * math.log10(mse_num)\n",
    "            if math.isnan(psnr):\n",
    "                print('NAN PSNR', i, img_id, mse_num)\n",
    "                assert False\n",
    "            stats_test['mse'] += mse_num\n",
    "            stats_test['psnr'] += psnr\n",
    "            n_images_gen += 1\n",
    "\n",
    "        if grid.basis_type == svox2.BASIS_TYPE_3D_TEXTURE or \\\n",
    "            grid.basis_type == svox2.BASIS_TYPE_MLP:\n",
    "              # Add spherical map visualization\n",
    "            EQ_RESO = 256\n",
    "            eq_dirs = generate_dirs_equirect(EQ_RESO * 2, EQ_RESO)\n",
    "            eq_dirs = torch.from_numpy(eq_dirs).to(device=device).view(-1, 3)\n",
    "\n",
    "            if grid.basis_type == svox2.BASIS_TYPE_MLP:\n",
    "                sphfuncs = grid._eval_basis_mlp(eq_dirs)\n",
    "            else:\n",
    "                sphfuncs = grid._eval_learned_bases(eq_dirs)\n",
    "            sphfuncs = sphfuncs.view(EQ_RESO, EQ_RESO*2, -1).permute([2, 0, 1]).cpu().numpy()\n",
    "\n",
    "            stats = [(sphfunc.min(), sphfunc.mean(), sphfunc.max())\n",
    "                    for sphfunc in sphfuncs]\n",
    "            sphfuncs_cmapped = [viridis_cmap(sphfunc) for sphfunc in sphfuncs]\n",
    "            for im, (minv, meanv, maxv) in zip(sphfuncs_cmapped, stats):\n",
    "                cv2.putText(im, f\"{'%.4f' % minv} {'%.4f' % meanv} {'%.4f' % maxv}\", (10, 20),\n",
    "                            0, 0.5, [255, 0, 0])\n",
    "            sphfuncs_cmapped = np.concatenate(sphfuncs_cmapped, axis=0)\n",
    "            summary_writer.add_image(f'test/spheric',\n",
    "                    sphfuncs_cmapped, global_step=gstep_id_base, dataformats='HWC')\n",
    "            # END add spherical map visualization\n",
    "\n",
    "        stats_test['mse'] /= n_images_gen\n",
    "        stats_test['psnr'] /= n_images_gen\n",
    "        for stat_name in stats_test:\n",
    "            summary_writer.add_scalar('test/' + stat_name,\n",
    "                    stats_test[stat_name], global_step=gstep_id_base)\n",
    "        summary_writer.add_scalar('epoch_id', float(epoch_id), global_step=gstep_id_base)\n",
    "        print('eval stats:', stats_test)"
   ]
  },
  {
   "cell_type": "code",
   "execution_count": 77,
   "metadata": {
    "executionInfo": {
     "elapsed": 292,
     "status": "aborted",
     "timestamp": 1644758568127,
     "user": {
      "displayName": "Артем Мельников",
      "photoUrl": "https://lh3.googleusercontent.com/a-/AOh14Gg3u21bfj3xbUWHLdTdT6sP-k0huGdxWfq9GMsmJQ=s64",
      "userId": "12648836304799801100"
     },
     "user_tz": -180
    },
    "id": "V0llZc-PiriQ"
   },
   "outputs": [],
   "source": [
    "class HandMadeArgs:\n",
    "    lr_decay = True\n",
    "\n",
    "    sigma_optim = ['sgd', 'rmsprop'][1]\n",
    "    lr_fg_begin_step = 0 \n",
    "    lr_sigma = 3e1\n",
    "    lr_sigma_final =  5e-2\n",
    "    lr_sigma_delay_steps =  250000\n",
    "    lr_sigma_delay_mult =  1e-2\n",
    "    lr_sigma_decay_steps =  15000\n",
    "\n",
    "    sh_optim = ['sgd', 'rmsprop'][1]\n",
    "    lr_sh = 1e-2\n",
    "    lr_sh_final = 5e-6\n",
    "    lr_sh_decay_steps = 250000\n",
    "    lr_sh_delay_mult = 1e-2\n",
    "    lr_sh_delay_steps= 0\n",
    "\n",
    "    basis_optim = ['sgd', 'rmsprop'][1]\n",
    "    lr_basis_begin_step = 0\n",
    "    lr_basis = 1e-6\n",
    "    lr_basis_final = 1e-6\n",
    "    lr_basis_decay_steps = 250000\n",
    "    lr_basis_delay_mult = 1e-2\n",
    "    lr_basis_delay_steps = 0\n",
    "\n",
    "    lr_color_bg = 1e-1\n",
    "    lr_color_bg_final = 5e-6\n",
    "    lr_color_bg_decay_steps = 250000\n",
    "    lr_color_bg_delay_mult = 1e-2\n",
    "    lr_color_bg_delay_steps = 0\n",
    "\n",
    "    lr_sigma_bg = 3e0\n",
    "    lr_sigma_bg_final = 3e-3\n",
    "    lr_sigma_bg_decay_steps = 250000\n",
    "    lr_sigma_bg_delay_mult = 1e-2\n",
    "    lr_sigma_bg_delay_steps = 0\n",
    "\n",
    "    batch_size = 5000\n",
    "\n",
    "    log_depth_map_use_thresh = None\n",
    "\n",
    "    rms_beta = 0.95\n",
    "\n",
    "    print_every = 20\n",
    "    save_every = 5\n",
    "    eval_every = 1\n",
    "\n",
    "    upsamp_every =  3 * 12800\n",
    "\n",
    "    lambda_beta = 0.0\n",
    "    lambda_sparsity = 0.0\n",
    "    enable_random = True\n",
    "    \n",
    "    log_mse_image = False\n",
    "    log_depth_map = False\n",
    "    log_depth_map_use_thresh = None\n",
    "\n",
    "\n",
    "    lambda_tv = 1e-5\n",
    "    tv_sparsity = 0.01\n",
    "    tv_logalpha = False\n",
    "    lambda_tv_sh = 1e-3\n",
    "    tv_sh_sparsity = 0.01\n",
    "    lambda_tv_lumisphere = 0.0\n",
    "    tv_lumisphere_sparsity = 0.01\n",
    "    tv_lumisphere_dir_factor = 0.0\n",
    "    tv_decay = 1.0\n",
    "    lambda_l2_sh = 0.0\n",
    "    tv_early_only = 1\n",
    "    tv_contiguous = 1\n",
    "\n",
    "    lambda_tv_basis = 0.0\n",
    "\n",
    "    init_sigma = 0.1\n",
    "    init_sigma_bg = 0.1\n",
    "\n",
    "    thresh_type = [\"weight\", \"sigma\"][0]\n",
    "    weight_thresh = 0.0005 * 512\n",
    "    density_thresh = 5\n",
    "    background_density_thresh = 1.0+1e-9\n",
    "    max_grid_elements = 44_000_000 # 22G\n",
    "\n",
    "    tune_mode = False\n",
    "    tune_nosave = False\n",
    "\n",
    "    weight_decay_sh = 1\n",
    "    weight_decay_sigma = 1\n",
    "\n",
    "    n_iters = 10 * 12800\n",
    "    upsample_density_add = 0.0\n",
    "\n",
    "    crop = 1.0\n",
    "    ray_len = False\n",
    "    no_vid = False\n",
    "    no_imsave = False\n",
    "\n",
    "args = HandMadeArgs()"
   ]
  },
  {
   "cell_type": "code",
   "execution_count": 78,
   "metadata": {
    "executionInfo": {
     "elapsed": 295,
     "status": "aborted",
     "timestamp": 1644758568130,
     "user": {
      "displayName": "Артем Мельников",
      "photoUrl": "https://lh3.googleusercontent.com/a-/AOh14Gg3u21bfj3xbUWHLdTdT6sP-k0huGdxWfq9GMsmJQ=s64",
      "userId": "12648836304799801100"
     },
     "user_tz": -180
    },
    "id": "xuwj_Rqa5fLS"
   },
   "outputs": [],
   "source": [
    "ckpt_path = PATH + \"/ckpt.npz\"\n",
    "\n",
    "lr_sigma_func = get_expon_lr_func(args.lr_sigma, args.lr_sigma_final, args.lr_sigma_delay_steps,\n",
    "                                  args.lr_sigma_delay_mult, args.lr_sigma_decay_steps)\n",
    "lr_sh_func = get_expon_lr_func(args.lr_sh, args.lr_sh_final, args.lr_sh_delay_steps,\n",
    "                               args.lr_sh_delay_mult, args.lr_sh_decay_steps)\n",
    "lr_basis_func = get_expon_lr_func(args.lr_basis, args.lr_basis_final, args.lr_basis_delay_steps,\n",
    "                               args.lr_basis_delay_mult, args.lr_basis_decay_steps)\n",
    "lr_sigma_bg_func = get_expon_lr_func(args.lr_sigma_bg, args.lr_sigma_bg_final, args.lr_sigma_bg_delay_steps,\n",
    "                               args.lr_sigma_bg_delay_mult, args.lr_sigma_bg_decay_steps)\n",
    "lr_color_bg_func = get_expon_lr_func(args.lr_color_bg, args.lr_color_bg_final, args.lr_color_bg_delay_steps,\n",
    "                               args.lr_color_bg_delay_mult, args.lr_color_bg_decay_steps)\n",
    "lr_sigma_factor = 1.0\n",
    "lr_sh_factor = 1.0\n",
    "lr_basis_factor = 1.0\n",
    "\n",
    "last_upsamp_step = 0\n",
    "\n",
    "epoch_id = -1"
   ]
  },
  {
   "cell_type": "code",
   "execution_count": 79,
   "metadata": {
    "executionInfo": {
     "elapsed": 297,
     "status": "aborted",
     "timestamp": 1644758568133,
     "user": {
      "displayName": "Артем Мельников",
      "photoUrl": "https://lh3.googleusercontent.com/a-/AOh14Gg3u21bfj3xbUWHLdTdT6sP-k0huGdxWfq9GMsmJQ=s64",
      "userId": "12648836304799801100"
     },
     "user_tz": -180
    },
    "id": "T5L73jFN5yFs"
   },
   "outputs": [],
   "source": [
    "if grid.basis_type == svox2.BASIS_TYPE_3D_TEXTURE:\n",
    "    grid.reinit_learned_bases(init_type='sh')\n",
    "    #  grid.reinit_learned_bases(init_type='fourier')\n",
    "    #  grid.reinit_learned_bases(init_type='sg', upper_hemi=True)\n",
    "    #  grid.basis_data.data.normal_(mean=0.28209479177387814, std=0.001)\n",
    "\n",
    "elif grid.basis_type == svox2.BASIS_TYPE_MLP:\n",
    "    # MLP!\n",
    "    optim_basis_mlp = torch.optim.Adam(\n",
    "                    grid.basis_mlp.parameters(),\n",
    "                    lr=args.lr_basis\n",
    "                )"
   ]
  },
  {
   "cell_type": "code",
   "execution_count": 81,
   "metadata": {},
   "outputs": [
    {
     "name": "stdout",
     "output_type": "stream",
     "text": [
      " Shuffling rays\n"
     ]
    },
    {
     "ename": "RuntimeError",
     "evalue": "CUDA out of memory. Tried to allocate 844.00 MiB (GPU 0; 7.79 GiB total capacity; 5.60 GiB already allocated; 55.56 MiB free; 6.36 GiB reserved in total by PyTorch) If reserved memory is >> allocated memory try setting max_split_size_mb to avoid fragmentation.  See documentation for Memory Management and PYTORCH_CUDA_ALLOC_CONF",
     "output_type": "error",
     "traceback": [
      "\u001b[0;31m---------------------------------------------------------------------------\u001b[0m",
      "\u001b[0;31mRuntimeError\u001b[0m                              Traceback (most recent call last)",
      "Input \u001b[0;32mIn [81]\u001b[0m, in \u001b[0;36m<cell line: 1>\u001b[0;34m()\u001b[0m\n\u001b[0;32m----> 1\u001b[0m \u001b[43mdset\u001b[49m\u001b[38;5;241;43m.\u001b[39;49m\u001b[43mshuffle_rays\u001b[49m\u001b[43m(\u001b[49m\u001b[43m)\u001b[49m\n",
      "File \u001b[0;32m~/Desktop/coursework/svox2/opt/util/dataset_base.py:33\u001b[0m, in \u001b[0;36mDatasetBase.shuffle_rays\u001b[0;34m(self)\u001b[0m\n\u001b[1;32m     31\u001b[0m \u001b[38;5;28;01mif\u001b[39;00m \u001b[38;5;28mself\u001b[39m\u001b[38;5;241m.\u001b[39msplit \u001b[38;5;241m==\u001b[39m \u001b[38;5;124m\"\u001b[39m\u001b[38;5;124mtrain\u001b[39m\u001b[38;5;124m\"\u001b[39m:\n\u001b[1;32m     32\u001b[0m     \u001b[38;5;28;01mdel\u001b[39;00m \u001b[38;5;28mself\u001b[39m\u001b[38;5;241m.\u001b[39mrays\n\u001b[0;32m---> 33\u001b[0m     \u001b[38;5;28mself\u001b[39m\u001b[38;5;241m.\u001b[39mrays \u001b[38;5;241m=\u001b[39m \u001b[43mselect_or_shuffle_rays\u001b[49m\u001b[43m(\u001b[49m\u001b[38;5;28;43mself\u001b[39;49m\u001b[38;5;241;43m.\u001b[39;49m\u001b[43mrays_init\u001b[49m\u001b[43m,\u001b[49m\u001b[43m \u001b[49m\u001b[38;5;28;43mself\u001b[39;49m\u001b[38;5;241;43m.\u001b[39;49m\u001b[43mpermutation\u001b[49m\u001b[43m,\u001b[49m\n\u001b[1;32m     34\u001b[0m \u001b[43m                                       \u001b[49m\u001b[38;5;28;43mself\u001b[39;49m\u001b[38;5;241;43m.\u001b[39;49m\u001b[43mepoch_size\u001b[49m\u001b[43m,\u001b[49m\u001b[43m \u001b[49m\u001b[38;5;28;43mself\u001b[39;49m\u001b[38;5;241;43m.\u001b[39;49m\u001b[43mdevice\u001b[49m\u001b[43m)\u001b[49m\n",
      "File \u001b[0;32m~/Desktop/coursework/svox2/opt/util/util.py:190\u001b[0m, in \u001b[0;36mselect_or_shuffle_rays\u001b[0;34m(rays_init, permutation, epoch_size, device)\u001b[0m\n\u001b[1;32m    188\u001b[0m     \u001b[38;5;28mprint\u001b[39m(\u001b[38;5;124m\"\u001b[39m\u001b[38;5;124m Selecting random rays\u001b[39m\u001b[38;5;124m\"\u001b[39m)\n\u001b[1;32m    189\u001b[0m     indexer \u001b[38;5;241m=\u001b[39m torch\u001b[38;5;241m.\u001b[39mrandint(n_rays, (n_samp,), device\u001b[38;5;241m=\u001b[39m\u001b[38;5;124m'\u001b[39m\u001b[38;5;124mcpu\u001b[39m\u001b[38;5;124m'\u001b[39m)\n\u001b[0;32m--> 190\u001b[0m \u001b[38;5;28;01mreturn\u001b[39;00m \u001b[43mrays_init\u001b[49m\u001b[43m[\u001b[49m\u001b[43mindexer\u001b[49m\u001b[43m]\u001b[49m\u001b[38;5;241;43m.\u001b[39;49m\u001b[43mto\u001b[49m\u001b[43m(\u001b[49m\u001b[43mdevice\u001b[49m\u001b[38;5;241;43m=\u001b[39;49m\u001b[43mdevice\u001b[49m\u001b[43m)\u001b[49m\n",
      "File \u001b[0;32m~/Desktop/coursework/svox2/opt/util/util.py:23\u001b[0m, in \u001b[0;36mRays.to\u001b[0;34m(self, *args, **kwargs)\u001b[0m\n\u001b[1;32m     21\u001b[0m origins \u001b[38;5;241m=\u001b[39m \u001b[38;5;28mself\u001b[39m\u001b[38;5;241m.\u001b[39morigins\u001b[38;5;241m.\u001b[39mto(\u001b[38;5;241m*\u001b[39margs, \u001b[38;5;241m*\u001b[39m\u001b[38;5;241m*\u001b[39mkwargs)\n\u001b[1;32m     22\u001b[0m dirs \u001b[38;5;241m=\u001b[39m \u001b[38;5;28mself\u001b[39m\u001b[38;5;241m.\u001b[39mdirs\u001b[38;5;241m.\u001b[39mto(\u001b[38;5;241m*\u001b[39margs, \u001b[38;5;241m*\u001b[39m\u001b[38;5;241m*\u001b[39mkwargs)\n\u001b[0;32m---> 23\u001b[0m gt \u001b[38;5;241m=\u001b[39m \u001b[38;5;28;43mself\u001b[39;49m\u001b[38;5;241;43m.\u001b[39;49m\u001b[43mgt\u001b[49m\u001b[38;5;241;43m.\u001b[39;49m\u001b[43mto\u001b[49m\u001b[43m(\u001b[49m\u001b[38;5;241;43m*\u001b[39;49m\u001b[43margs\u001b[49m\u001b[43m,\u001b[49m\u001b[43m \u001b[49m\u001b[38;5;241;43m*\u001b[39;49m\u001b[38;5;241;43m*\u001b[39;49m\u001b[43mkwargs\u001b[49m\u001b[43m)\u001b[49m\n\u001b[1;32m     24\u001b[0m \u001b[38;5;28;01mreturn\u001b[39;00m Rays(origins, dirs, gt)\n",
      "\u001b[0;31mRuntimeError\u001b[0m: CUDA out of memory. Tried to allocate 844.00 MiB (GPU 0; 7.79 GiB total capacity; 5.60 GiB already allocated; 55.56 MiB free; 6.36 GiB reserved in total by PyTorch) If reserved memory is >> allocated memory try setting max_split_size_mb to avoid fragmentation.  See documentation for Memory Management and PYTORCH_CUDA_ALLOC_CONF"
     ]
    }
   ],
   "source": [
    "dset.shuffle_rays()"
   ]
  },
  {
   "cell_type": "code",
   "execution_count": 60,
   "metadata": {
    "executionInfo": {
     "elapsed": 299,
     "status": "aborted",
     "timestamp": 1644758568135,
     "user": {
      "displayName": "Артем Мельников",
      "photoUrl": "https://lh3.googleusercontent.com/a-/AOh14Gg3u21bfj3xbUWHLdTdT6sP-k0huGdxWfq9GMsmJQ=s64",
      "userId": "12648836304799801100"
     },
     "user_tz": -180
    },
    "id": "WP6JNRZGhwZD"
   },
   "outputs": [
    {
     "name": "stdout",
     "output_type": "stream",
     "text": [
      " Shuffling rays\n"
     ]
    },
    {
     "ename": "KeyboardInterrupt",
     "evalue": "",
     "output_type": "error",
     "traceback": [
      "\u001b[0;31m---------------------------------------------------------------------------\u001b[0m",
      "\u001b[0;31mKeyboardInterrupt\u001b[0m                         Traceback (most recent call last)",
      "Input \u001b[0;32mIn [60]\u001b[0m, in \u001b[0;36m<cell line: 2>\u001b[0;34m()\u001b[0m\n\u001b[1;32m      1\u001b[0m \u001b[38;5;28;01mwhile\u001b[39;00m \u001b[38;5;28;01mTrue\u001b[39;00m:\n\u001b[0;32m----> 2\u001b[0m     \u001b[43mdset\u001b[49m\u001b[38;5;241;43m.\u001b[39;49m\u001b[43mshuffle_rays\u001b[49m\u001b[43m(\u001b[49m\u001b[43m)\u001b[49m\n\u001b[1;32m      3\u001b[0m     epoch_id \u001b[38;5;241m+\u001b[39m\u001b[38;5;241m=\u001b[39m \u001b[38;5;241m1\u001b[39m\n\u001b[1;32m      4\u001b[0m     epoch_size \u001b[38;5;241m=\u001b[39m dset\u001b[38;5;241m.\u001b[39mrays\u001b[38;5;241m.\u001b[39morigins\u001b[38;5;241m.\u001b[39msize(\u001b[38;5;241m0\u001b[39m)\n",
      "File \u001b[0;32m~/Desktop/coursework/svox2/opt/util/dataset_base.py:33\u001b[0m, in \u001b[0;36mDatasetBase.shuffle_rays\u001b[0;34m(self)\u001b[0m\n\u001b[1;32m     31\u001b[0m \u001b[38;5;28;01mif\u001b[39;00m \u001b[38;5;28mself\u001b[39m\u001b[38;5;241m.\u001b[39msplit \u001b[38;5;241m==\u001b[39m \u001b[38;5;124m\"\u001b[39m\u001b[38;5;124mtrain\u001b[39m\u001b[38;5;124m\"\u001b[39m:\n\u001b[1;32m     32\u001b[0m     \u001b[38;5;28;01mdel\u001b[39;00m \u001b[38;5;28mself\u001b[39m\u001b[38;5;241m.\u001b[39mrays\n\u001b[0;32m---> 33\u001b[0m     \u001b[38;5;28mself\u001b[39m\u001b[38;5;241m.\u001b[39mrays \u001b[38;5;241m=\u001b[39m \u001b[43mselect_or_shuffle_rays\u001b[49m\u001b[43m(\u001b[49m\u001b[38;5;28;43mself\u001b[39;49m\u001b[38;5;241;43m.\u001b[39;49m\u001b[43mrays_init\u001b[49m\u001b[43m,\u001b[49m\u001b[43m \u001b[49m\u001b[38;5;28;43mself\u001b[39;49m\u001b[38;5;241;43m.\u001b[39;49m\u001b[43mpermutation\u001b[49m\u001b[43m,\u001b[49m\n\u001b[1;32m     34\u001b[0m \u001b[43m                                       \u001b[49m\u001b[38;5;28;43mself\u001b[39;49m\u001b[38;5;241;43m.\u001b[39;49m\u001b[43mepoch_size\u001b[49m\u001b[43m,\u001b[49m\u001b[43m \u001b[49m\u001b[38;5;28;43mself\u001b[39;49m\u001b[38;5;241;43m.\u001b[39;49m\u001b[43mdevice\u001b[49m\u001b[43m)\u001b[49m\n",
      "File \u001b[0;32m~/Desktop/coursework/svox2/opt/util/util.py:186\u001b[0m, in \u001b[0;36mselect_or_shuffle_rays\u001b[0;34m(rays_init, permutation, epoch_size, device)\u001b[0m\n\u001b[1;32m    184\u001b[0m \u001b[38;5;28;01mif\u001b[39;00m permutation:\n\u001b[1;32m    185\u001b[0m     \u001b[38;5;28mprint\u001b[39m(\u001b[38;5;124m\"\u001b[39m\u001b[38;5;124m Shuffling rays\u001b[39m\u001b[38;5;124m\"\u001b[39m)\n\u001b[0;32m--> 186\u001b[0m     indexer \u001b[38;5;241m=\u001b[39m \u001b[43mtorch\u001b[49m\u001b[38;5;241;43m.\u001b[39;49m\u001b[43mrandperm\u001b[49m\u001b[43m(\u001b[49m\u001b[43mn_rays\u001b[49m\u001b[43m,\u001b[49m\u001b[43m \u001b[49m\u001b[43mdevice\u001b[49m\u001b[38;5;241;43m=\u001b[39;49m\u001b[38;5;124;43m'\u001b[39;49m\u001b[38;5;124;43mcpu\u001b[39;49m\u001b[38;5;124;43m'\u001b[39;49m\u001b[43m)\u001b[49m[:n_samp]\n\u001b[1;32m    187\u001b[0m \u001b[38;5;28;01melse\u001b[39;00m:\n\u001b[1;32m    188\u001b[0m     \u001b[38;5;28mprint\u001b[39m(\u001b[38;5;124m\"\u001b[39m\u001b[38;5;124m Selecting random rays\u001b[39m\u001b[38;5;124m\"\u001b[39m)\n",
      "\u001b[0;31mKeyboardInterrupt\u001b[0m: "
     ]
    }
   ],
   "source": [
    "while True:\n",
    "    dset.shuffle_rays()\n",
    "    epoch_id += 1\n",
    "    epoch_size = dset.rays.origins.size(0)\n",
    "    batches_per_epoch = (epoch_size-1)//args.batch_size+1\n",
    "    \n",
    "    if epoch_id % max(factor, args.eval_every) == 0: #and (epoch_id > 0 or not args.tune_mode):\n",
    "        # NOTE: we do an eval sanity check, if not in tune_mode\n",
    "        eval_step()\n",
    "        gc.collect()\n",
    "\n",
    "    train_step()\n",
    "    gc.collect()\n",
    "    gstep_id_base += batches_per_epoch\n",
    "\n",
    "    #  ckpt_path = path.join(args.train_dir, f'ckpt_{epoch_id:05d}.npz')\n",
    "    # Overwrite prev checkpoints since they are very huge\n",
    "    if args.save_every > 0 and (epoch_id + 1) % max(\n",
    "            factor, args.save_every) == 0 and not args.tune_mode:\n",
    "        print('Saving', ckpt_path)\n",
    "        grid.save(ckpt_path)\n",
    "\n",
    "    if (gstep_id_base - last_upsamp_step) >= args.upsamp_every:\n",
    "        last_upsamp_step = gstep_id_base\n",
    "        if reso_id < len(reso_list) - 1:\n",
    "            print('* Upsampling from', reso_list[reso_id], 'to', reso_list[reso_id + 1])\n",
    "            if args.tv_early_only > 0:\n",
    "                print('turning off TV regularization')\n",
    "                args.lambda_tv = 0.0\n",
    "                args.lambda_tv_sh = 0.0\n",
    "            elif args.tv_decay != 1.0:\n",
    "                args.lambda_tv *= args.tv_decay\n",
    "                args.lambda_tv_sh *= args.tv_decay\n",
    "\n",
    "            reso_id += 1\n",
    "            use_sparsify = True\n",
    "            z_reso = reso_list[reso_id] if isinstance(reso_list[reso_id], int) else reso_list[reso_id][2]\n",
    "            grid.resample(reso=reso_list[reso_id],\n",
    "                    sigma_thresh=args.density_thresh,\n",
    "                    weight_thresh=args.weight_thresh / z_reso if use_sparsify else 0.0,\n",
    "                    dilate=2, #use_sparsify,\n",
    "                    cameras=resample_cameras if args.thresh_type == 'weight' else None,\n",
    "                    max_elements=args.max_grid_elements)\n",
    "\n",
    "            if grid.use_background and reso_id <= 1:\n",
    "                grid.sparsify_background(args.background_density_thresh)\n",
    "\n",
    "            if args.upsample_density_add:\n",
    "                grid.density_data.data[:] += args.upsample_density_add\n",
    "\n",
    "        if factor > 1 and reso_id < len(reso_list) - 1:\n",
    "            print('* Using higher resolution images due to large grid; new factor', factor)\n",
    "            factor //= 2\n",
    "            dset.gen_rays(factor=factor)\n",
    "            dset.shuffle_rays()\n",
    "\n",
    "    if gstep_id_base >= args.n_iters:\n",
    "        print('* Final eval and save')\n",
    "        eval_step()\n",
    "        \"\"\"\n",
    "        global_stop_time = datetime.now()\n",
    "        secs = (global_stop_time - global_start_time).total_seconds()\n",
    "        timings_file = open(os.path.join(args.train_dir, 'time_mins.txt'), 'a')\n",
    "        timings_file.write(f\"{secs / 60}\\n\")\n",
    "        \"\"\"\n",
    "        if not args.tune_nosave:\n",
    "            grid.save(ckpt_path)\n",
    "        break"
   ]
  },
  {
   "cell_type": "markdown",
   "metadata": {
    "id": "29RICBe7B_im"
   },
   "source": [
    "# Рендерим результат"
   ]
  },
  {
   "cell_type": "code",
   "execution_count": 20,
   "metadata": {
    "id": "L_CobG6SGWfc"
   },
   "outputs": [],
   "source": [
    "import imageio\n",
    "import numpy as np"
   ]
  },
  {
   "cell_type": "code",
   "execution_count": 38,
   "metadata": {
    "id": "FzdliYOWGWmW"
   },
   "outputs": [],
   "source": [
    "render_dir = PATH + \"/render\""
   ]
  },
  {
   "cell_type": "code",
   "execution_count": 22,
   "metadata": {
    "id": "b-KFD-z9H5Bp"
   },
   "outputs": [],
   "source": [
    "if False:\n",
    "  render_dir += \"_test\"\n",
    "  dset = dset_test"
   ]
  },
  {
   "cell_type": "code",
   "execution_count": 42,
   "metadata": {
    "colab": {
     "base_uri": "https://localhost:8080/",
     "height": 86,
     "referenced_widgets": [
      "67c9404f42de40febb7d575725130766",
      "58928c8ac4884017b1b64f1190a543b8",
      "12ba36689d634f62bc40873150ee2ad5",
      "314da65bdacd4fbbae5ae9ef9b578c7e",
      "8ee06e5eeb124750bbf46b0f348f867d",
      "3829be684a6747d48e58af0f6d1b688d",
      "d8382fd3d92b4b0cac94c068a20895d6",
      "c2fe7d5de0e04d448aa2775c8cfb1e15",
      "be71165e1c0145efb690c172e2745e90",
      "ed08435c0bf14afeacfce8e3bbf0643e",
      "60b335ebd0a54d0e83170765c4557138"
     ]
    },
    "executionInfo": {
     "elapsed": 21717,
     "status": "ok",
     "timestamp": 1644424619523,
     "user": {
      "displayName": "Артем Мельников",
      "photoUrl": "https://lh3.googleusercontent.com/a-/AOh14Gg3u21bfj3xbUWHLdTdT6sP-k0huGdxWfq9GMsmJQ=s64",
      "userId": "12648836304799801100"
     },
     "user_tz": -180
    },
    "id": "O-3cpk9NCpGF",
    "outputId": "34aac8b3-c210-4f7f-bc24-4b52aed45db7"
   },
   "outputs": [
    {
     "data": {
      "application/vnd.jupyter.widget-view+json": {
       "model_id": "1b637ac9d260473e9f401ebe60606122",
       "version_major": 2,
       "version_minor": 0
      },
      "text/plain": [
       "  0%|          | 0/95 [00:00<?, ?it/s]"
      ]
     },
     "metadata": {},
     "output_type": "display_data"
    },
    {
     "name": "stderr",
     "output_type": "stream",
     "text": [
      "IMAGEIO FFMPEG_WRITER WARNING: input image is not divisible by macro_block_size=8, resizing from (2030, 764) to (2032, 768) to ensure video compatibility with most codecs and players. To prevent resizing, make your input image divisible by the macro_block_size or set the macro_block_size to 1 (risking incompatibility).\n",
      "[swscaler @ 0x5b0e740] Warning: data is not aligned! This can lead to a speed loss\n"
     ]
    }
   ],
   "source": [
    "with torch.no_grad():\n",
    "    n_images = dset.n_images\n",
    "    img_eval_interval = max(n_images // 100000, 1)\n",
    "    avg_psnr = 0.0\n",
    "    avg_ssim = 0.0\n",
    "    avg_lpips = 0.0\n",
    "    n_images_gen = 0\n",
    "    c2ws = dset.c2w.to(device=device)\n",
    "\n",
    "    frames = []\n",
    "    for img_id in tqdm(range(0, n_images, img_eval_interval)):\n",
    "        dset_h, dset_w = dset.get_image_size(img_id)\n",
    "        im_size = dset_h * dset_w\n",
    "        w = c if args.crop == 1.0 else int(dset_w * args.crop)\n",
    "        h = dset_h if args.crop == 1.0 else int(dset_h * args.crop)\n",
    "\n",
    "        cam = svox2.Camera(c2ws[img_id],\n",
    "                           dset.intrins.get('fx', img_id),\n",
    "                           dset.intrins.get('fy', img_id),\n",
    "                           dset.intrins.get('cx', img_id) + (w - dset_w) * 0.5,\n",
    "                           dset.intrins.get('cy', img_id) + (h - dset_h) * 0.5,\n",
    "                           w, h,\n",
    "                           ndc_coeffs=dset.ndc_coeffs)\n",
    "        im = grid.volume_render_image(cam, use_kernel=True, return_raylen=args.ray_len)\n",
    "       \n",
    "        if args.ray_len:\n",
    "            minv, meanv, maxv = im.min().item(), im.mean().item(), im.max().item()\n",
    "            im = viridis_cmap(im.cpu().numpy())\n",
    "            cv2.putText(im, f\"{'%.4f' % minv} {'%.4f' % meanv} {'%.4f' % maxv}\", (10, 20),\n",
    "                        0, 0.5, [255, 0, 0])\n",
    "            im = torch.from_numpy(im).to(device=device)\n",
    "        im.clamp_(0.0, 1.0)\n",
    "\n",
    "        im_gt = dset.gt[img_id].to(device=device)\n",
    "        mse = (im - im_gt) ** 2 \n",
    "        mse_num : float = mse.mean().item()\n",
    "        psnr = -10.0 * math.log10(mse_num)\n",
    "        avg_psnr += psnr\n",
    "\n",
    "        img_path = path.join(render_dir, f'{\"%.04d\" % img_id}.png');\n",
    "        im = im.cpu().numpy()\n",
    "\n",
    "        im_gt = dset.gt[img_id].numpy()\n",
    "        im = np.concatenate([im_gt, im], axis=1)\n",
    "\n",
    "        im = (im * 255).astype(np.uint8)\n",
    "        if not args.no_imsave:\n",
    "            imageio.imwrite(img_path,im)\n",
    "        if not args.no_vid:\n",
    "            frames.append(im)\n",
    "\n",
    "        im = None\n",
    "        n_images_gen += 1\n",
    "\n",
    "    if not args.no_vid and len(frames):\n",
    "        vid_path = render_dir + '/compilation.mp4'\n",
    "        imageio.mimwrite(vid_path, frames, fps=30, macro_block_size=8)  # pip install imageio-ffmpeg"
   ]
  },
  {
   "cell_type": "code",
   "execution_count": 55,
   "metadata": {},
   "outputs": [],
   "source": [
    "obs_dir = PATH + \"/obs\""
   ]
  },
  {
   "cell_type": "code",
   "execution_count": 59,
   "metadata": {},
   "outputs": [
    {
     "data": {
      "application/vnd.jupyter.widget-view+json": {
       "model_id": "9c0be6fe22394a0aac0f9280bce9b938",
       "version_major": 2,
       "version_minor": 0
      },
      "text/plain": [
       "  0%|          | 0/10 [00:00<?, ?it/s]"
      ]
     },
     "metadata": {},
     "output_type": "display_data"
    }
   ],
   "source": [
    "cam = svox2.Camera(c2ws[img_id],\n",
    "                           dset.intrins.get('fx', ),\n",
    "                           dset.intrins.get('fy', img_id),\n",
    "                           dset.intrins.get('cx', img_id) + (w - dset_w) * 0.5,\n",
    "                           dset.intrins.get('cy', img_id) + (h - dset_h) * 0.5,\n",
    "                           w, h,\n",
    "                           ndc_coeffs=dset.ndc_coeffs)\n",
    "with torch.no_grad():\n",
    "    for i in tqdm(range(10)):\n",
    "        cam.fx += 10\n",
    "        im = grid.volume_render_image(cam, use_kernel=True, return_raylen=args.ray_len)\n",
    "\n",
    "        im = im.cpu().numpy()\n",
    "        \n",
    "        im = (im * 255).astype(np.uint8)\n",
    "\n",
    "        img_path = path.join(obs_dir, f'{\"%.04d\" % i}.png')\n",
    "        imageio.imwrite(img_path,im)"
   ]
  },
  {
   "cell_type": "code",
   "execution_count": null,
   "metadata": {},
   "outputs": [],
   "source": []
  }
 ],
 "metadata": {
  "accelerator": "GPU",
  "colab": {
   "authorship_tag": "ABX9TyMyStyw40GL4iZcxrEW1hHc",
   "collapsed_sections": [
    "29RICBe7B_im"
   ],
   "machine_shape": "hm",
   "mount_file_id": "1xVbS56Xn7PWR-z2iB35qPr2k7HxlB_Ny",
   "name": "coursework.ipynb",
   "provenance": []
  },
  "kernelspec": {
   "display_name": "Python 3 (ipykernel)",
   "language": "python",
   "name": "python3"
  },
  "language_info": {
   "codemirror_mode": {
    "name": "ipython",
    "version": 3
   },
   "file_extension": ".py",
   "mimetype": "text/x-python",
   "name": "python",
   "nbconvert_exporter": "python",
   "pygments_lexer": "ipython3",
   "version": "3.8.8"
  },
  "widgets": {
   "application/vnd.jupyter.widget-state+json": {
    "12ba36689d634f62bc40873150ee2ad5": {
     "model_module": "@jupyter-widgets/controls",
     "model_module_version": "1.5.0",
     "model_name": "FloatProgressModel",
     "state": {
      "_dom_classes": [],
      "_model_module": "@jupyter-widgets/controls",
      "_model_module_version": "1.5.0",
      "_model_name": "FloatProgressModel",
      "_view_count": null,
      "_view_module": "@jupyter-widgets/controls",
      "_view_module_version": "1.5.0",
      "_view_name": "ProgressView",
      "bar_style": "success",
      "description": "",
      "description_tooltip": null,
      "layout": "IPY_MODEL_c2fe7d5de0e04d448aa2775c8cfb1e15",
      "max": 43,
      "min": 0,
      "orientation": "horizontal",
      "style": "IPY_MODEL_be71165e1c0145efb690c172e2745e90",
      "value": 43
     }
    },
    "314da65bdacd4fbbae5ae9ef9b578c7e": {
     "model_module": "@jupyter-widgets/controls",
     "model_module_version": "1.5.0",
     "model_name": "HTMLModel",
     "state": {
      "_dom_classes": [],
      "_model_module": "@jupyter-widgets/controls",
      "_model_module_version": "1.5.0",
      "_model_name": "HTMLModel",
      "_view_count": null,
      "_view_module": "@jupyter-widgets/controls",
      "_view_module_version": "1.5.0",
      "_view_name": "HTMLView",
      "description": "",
      "description_tooltip": null,
      "layout": "IPY_MODEL_ed08435c0bf14afeacfce8e3bbf0643e",
      "placeholder": "​",
      "style": "IPY_MODEL_60b335ebd0a54d0e83170765c4557138",
      "value": " 43/43 [00:19&lt;00:00,  2.37it/s]"
     }
    },
    "3829be684a6747d48e58af0f6d1b688d": {
     "model_module": "@jupyter-widgets/base",
     "model_module_version": "1.2.0",
     "model_name": "LayoutModel",
     "state": {
      "_model_module": "@jupyter-widgets/base",
      "_model_module_version": "1.2.0",
      "_model_name": "LayoutModel",
      "_view_count": null,
      "_view_module": "@jupyter-widgets/base",
      "_view_module_version": "1.2.0",
      "_view_name": "LayoutView",
      "align_content": null,
      "align_items": null,
      "align_self": null,
      "border": null,
      "bottom": null,
      "display": null,
      "flex": null,
      "flex_flow": null,
      "grid_area": null,
      "grid_auto_columns": null,
      "grid_auto_flow": null,
      "grid_auto_rows": null,
      "grid_column": null,
      "grid_gap": null,
      "grid_row": null,
      "grid_template_areas": null,
      "grid_template_columns": null,
      "grid_template_rows": null,
      "height": null,
      "justify_content": null,
      "justify_items": null,
      "left": null,
      "margin": null,
      "max_height": null,
      "max_width": null,
      "min_height": null,
      "min_width": null,
      "object_fit": null,
      "object_position": null,
      "order": null,
      "overflow": null,
      "overflow_x": null,
      "overflow_y": null,
      "padding": null,
      "right": null,
      "top": null,
      "visibility": null,
      "width": null
     }
    },
    "58928c8ac4884017b1b64f1190a543b8": {
     "model_module": "@jupyter-widgets/controls",
     "model_module_version": "1.5.0",
     "model_name": "HTMLModel",
     "state": {
      "_dom_classes": [],
      "_model_module": "@jupyter-widgets/controls",
      "_model_module_version": "1.5.0",
      "_model_name": "HTMLModel",
      "_view_count": null,
      "_view_module": "@jupyter-widgets/controls",
      "_view_module_version": "1.5.0",
      "_view_name": "HTMLView",
      "description": "",
      "description_tooltip": null,
      "layout": "IPY_MODEL_3829be684a6747d48e58af0f6d1b688d",
      "placeholder": "​",
      "style": "IPY_MODEL_d8382fd3d92b4b0cac94c068a20895d6",
      "value": "100%"
     }
    },
    "60b335ebd0a54d0e83170765c4557138": {
     "model_module": "@jupyter-widgets/controls",
     "model_module_version": "1.5.0",
     "model_name": "DescriptionStyleModel",
     "state": {
      "_model_module": "@jupyter-widgets/controls",
      "_model_module_version": "1.5.0",
      "_model_name": "DescriptionStyleModel",
      "_view_count": null,
      "_view_module": "@jupyter-widgets/base",
      "_view_module_version": "1.2.0",
      "_view_name": "StyleView",
      "description_width": ""
     }
    },
    "67c9404f42de40febb7d575725130766": {
     "model_module": "@jupyter-widgets/controls",
     "model_module_version": "1.5.0",
     "model_name": "HBoxModel",
     "state": {
      "_dom_classes": [],
      "_model_module": "@jupyter-widgets/controls",
      "_model_module_version": "1.5.0",
      "_model_name": "HBoxModel",
      "_view_count": null,
      "_view_module": "@jupyter-widgets/controls",
      "_view_module_version": "1.5.0",
      "_view_name": "HBoxView",
      "box_style": "",
      "children": [
       "IPY_MODEL_58928c8ac4884017b1b64f1190a543b8",
       "IPY_MODEL_12ba36689d634f62bc40873150ee2ad5",
       "IPY_MODEL_314da65bdacd4fbbae5ae9ef9b578c7e"
      ],
      "layout": "IPY_MODEL_8ee06e5eeb124750bbf46b0f348f867d"
     }
    },
    "8ee06e5eeb124750bbf46b0f348f867d": {
     "model_module": "@jupyter-widgets/base",
     "model_module_version": "1.2.0",
     "model_name": "LayoutModel",
     "state": {
      "_model_module": "@jupyter-widgets/base",
      "_model_module_version": "1.2.0",
      "_model_name": "LayoutModel",
      "_view_count": null,
      "_view_module": "@jupyter-widgets/base",
      "_view_module_version": "1.2.0",
      "_view_name": "LayoutView",
      "align_content": null,
      "align_items": null,
      "align_self": null,
      "border": null,
      "bottom": null,
      "display": null,
      "flex": null,
      "flex_flow": null,
      "grid_area": null,
      "grid_auto_columns": null,
      "grid_auto_flow": null,
      "grid_auto_rows": null,
      "grid_column": null,
      "grid_gap": null,
      "grid_row": null,
      "grid_template_areas": null,
      "grid_template_columns": null,
      "grid_template_rows": null,
      "height": null,
      "justify_content": null,
      "justify_items": null,
      "left": null,
      "margin": null,
      "max_height": null,
      "max_width": null,
      "min_height": null,
      "min_width": null,
      "object_fit": null,
      "object_position": null,
      "order": null,
      "overflow": null,
      "overflow_x": null,
      "overflow_y": null,
      "padding": null,
      "right": null,
      "top": null,
      "visibility": null,
      "width": null
     }
    },
    "be71165e1c0145efb690c172e2745e90": {
     "model_module": "@jupyter-widgets/controls",
     "model_module_version": "1.5.0",
     "model_name": "ProgressStyleModel",
     "state": {
      "_model_module": "@jupyter-widgets/controls",
      "_model_module_version": "1.5.0",
      "_model_name": "ProgressStyleModel",
      "_view_count": null,
      "_view_module": "@jupyter-widgets/base",
      "_view_module_version": "1.2.0",
      "_view_name": "StyleView",
      "bar_color": null,
      "description_width": ""
     }
    },
    "c2fe7d5de0e04d448aa2775c8cfb1e15": {
     "model_module": "@jupyter-widgets/base",
     "model_module_version": "1.2.0",
     "model_name": "LayoutModel",
     "state": {
      "_model_module": "@jupyter-widgets/base",
      "_model_module_version": "1.2.0",
      "_model_name": "LayoutModel",
      "_view_count": null,
      "_view_module": "@jupyter-widgets/base",
      "_view_module_version": "1.2.0",
      "_view_name": "LayoutView",
      "align_content": null,
      "align_items": null,
      "align_self": null,
      "border": null,
      "bottom": null,
      "display": null,
      "flex": null,
      "flex_flow": null,
      "grid_area": null,
      "grid_auto_columns": null,
      "grid_auto_flow": null,
      "grid_auto_rows": null,
      "grid_column": null,
      "grid_gap": null,
      "grid_row": null,
      "grid_template_areas": null,
      "grid_template_columns": null,
      "grid_template_rows": null,
      "height": null,
      "justify_content": null,
      "justify_items": null,
      "left": null,
      "margin": null,
      "max_height": null,
      "max_width": null,
      "min_height": null,
      "min_width": null,
      "object_fit": null,
      "object_position": null,
      "order": null,
      "overflow": null,
      "overflow_x": null,
      "overflow_y": null,
      "padding": null,
      "right": null,
      "top": null,
      "visibility": null,
      "width": null
     }
    },
    "d8382fd3d92b4b0cac94c068a20895d6": {
     "model_module": "@jupyter-widgets/controls",
     "model_module_version": "1.5.0",
     "model_name": "DescriptionStyleModel",
     "state": {
      "_model_module": "@jupyter-widgets/controls",
      "_model_module_version": "1.5.0",
      "_model_name": "DescriptionStyleModel",
      "_view_count": null,
      "_view_module": "@jupyter-widgets/base",
      "_view_module_version": "1.2.0",
      "_view_name": "StyleView",
      "description_width": ""
     }
    },
    "ed08435c0bf14afeacfce8e3bbf0643e": {
     "model_module": "@jupyter-widgets/base",
     "model_module_version": "1.2.0",
     "model_name": "LayoutModel",
     "state": {
      "_model_module": "@jupyter-widgets/base",
      "_model_module_version": "1.2.0",
      "_model_name": "LayoutModel",
      "_view_count": null,
      "_view_module": "@jupyter-widgets/base",
      "_view_module_version": "1.2.0",
      "_view_name": "LayoutView",
      "align_content": null,
      "align_items": null,
      "align_self": null,
      "border": null,
      "bottom": null,
      "display": null,
      "flex": null,
      "flex_flow": null,
      "grid_area": null,
      "grid_auto_columns": null,
      "grid_auto_flow": null,
      "grid_auto_rows": null,
      "grid_column": null,
      "grid_gap": null,
      "grid_row": null,
      "grid_template_areas": null,
      "grid_template_columns": null,
      "grid_template_rows": null,
      "height": null,
      "justify_content": null,
      "justify_items": null,
      "left": null,
      "margin": null,
      "max_height": null,
      "max_width": null,
      "min_height": null,
      "min_width": null,
      "object_fit": null,
      "object_position": null,
      "order": null,
      "overflow": null,
      "overflow_x": null,
      "overflow_y": null,
      "padding": null,
      "right": null,
      "top": null,
      "visibility": null,
      "width": null
     }
    }
   }
  }
 },
 "nbformat": 4,
 "nbformat_minor": 1
}
